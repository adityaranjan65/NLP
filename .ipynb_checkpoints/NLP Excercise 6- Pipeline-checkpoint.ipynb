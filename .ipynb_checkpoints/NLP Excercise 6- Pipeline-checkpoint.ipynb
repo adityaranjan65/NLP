{
 "cells": [
  {
   "cell_type": "code",
   "execution_count": 1,
   "metadata": {},
   "outputs": [
    {
     "name": "stdout",
     "output_type": "stream",
     "text": [
      "[('We', 'PRP'), ('believe', 'VBP'), ('that', 'IN'), ('we', 'PRP'), ('can', 'MD'), ('change', 'VB'), ('the', 'DT'), ('things', 'NNS'), ('around', 'IN'), ('us', 'PRP'), ('in', 'IN'), ('accordance', 'NN'), ('with', 'IN'), ('our', 'PRP$'), ('desires—we', 'NN'), ('believe', 'VBP'), ('it', 'PRP'), ('because', 'IN'), ('otherwise', 'IN'), ('we', 'PRP'), ('can', 'MD'), ('see', 'VB'), ('no', 'DT'), ('favourable', 'JJ'), ('outcome', 'NN'), ('.', '.')]\n",
      "[('We', 'PRP'), ('do', 'VBP'), ('not', 'RB'), ('think', 'VB'), ('of', 'IN'), ('the', 'DT'), ('outcome', 'NN'), ('which', 'WDT'), ('generally', 'RB'), ('comes', 'VBZ'), ('to', 'TO'), ('pass', 'VB'), ('and', 'CC'), ('is', 'VBZ'), ('also', 'RB'), ('favourable', 'JJ'), (':', ':'), ('we', 'PRP'), ('do', 'VBP'), ('not', 'RB'), ('succeed', 'VB'), ('in', 'IN'), ('changing', 'VBG'), ('things', 'NNS'), ('in', 'IN'), ('accordance', 'NN'), ('with', 'IN'), ('our', 'PRP$'), ('desires', 'NNS'), (',', ','), ('but', 'CC'), ('gradually', 'RB'), ('our', 'PRP$'), ('desires', 'NNS'), ('change', 'VBP'), ('.', '.')]\n",
      "[('The', 'DT'), ('situation', 'NN'), ('that', 'IN'), ('we', 'PRP'), ('hoped', 'VBD'), ('to', 'TO'), ('change', 'VB'), ('because', 'IN'), ('it', 'PRP'), ('was', 'VBD'), ('intolerable', 'JJ'), ('becomes', 'NNS'), ('unimportant', 'JJ'), ('to', 'TO'), ('us', 'PRP'), ('.', '.')]\n",
      "[('We', 'PRP'), ('have', 'VBP'), ('failed', 'VBN'), ('to', 'TO'), ('surmount', 'VB'), ('the', 'DT'), ('obstacle', 'NN'), (',', ','), ('as', 'IN'), ('we', 'PRP'), ('were', 'VBD'), ('absolutely', 'RB'), ('determined', 'VBN'), ('to', 'TO'), ('do', 'VB'), (',', ','), ('but', 'CC'), ('life', 'NN'), ('has', 'VBZ'), ('taken', 'VBN'), ('us', 'PRP'), ('round', 'VB'), ('it', 'PRP'), (',', ','), ('led', 'VBD'), ('us', 'PRP'), ('beyond', 'IN'), ('it', 'PRP'), (',', ','), ('and', 'CC'), ('then', 'RB'), ('if', 'IN'), ('we', 'PRP'), ('turn', 'VBP'), ('round', 'VBN'), ('to', 'TO'), ('gaze', 'VB'), ('into', 'IN'), ('the', 'DT'), ('distance', 'NN'), ('of', 'IN'), ('the', 'DT'), ('past', 'JJ'), (',', ','), ('we', 'PRP'), ('can', 'MD'), ('barely', 'RB'), ('see', 'VB'), ('it', 'PRP'), (',', ','), ('so', 'RB'), ('imperceptible', 'JJ'), ('has', 'VBZ'), ('it', 'PRP'), ('become', 'RP'), ('.', '.')]\n"
     ]
    }
   ],
   "source": [
    "import nltk\n",
    "texts =  [\"\"\"We believe that we can change the things around us in accordance with our desires—we believe it because otherwise we can see no favourable outcome. We do not think of the outcome which generally comes to pass and is also favourable: we do not succeed in changing things in accordance with our desires, but gradually our desires change. The situation that we hoped to change because it was intolerable becomes unimportant to us. We have failed to surmount the obstacle, as we were absolutely determined to do, but life has taken us round it, led us beyond it, and then if we turn round to gaze into the distance of the past, we can barely see it, so imperceptible has it become.\"\"\"]\n",
    "\n",
    "for text in texts:\n",
    "    sentences = nltk.sent_tokenize(text)\n",
    "    for sentence in sentences:\n",
    "        words = nltk.word_tokenize(sentence)\n",
    "        tagged_words = nltk.pos_tag(words)\n",
    "        print(tagged_words)"
   ]
  },
  {
   "cell_type": "code",
   "execution_count": null,
   "metadata": {},
   "outputs": [],
   "source": []
  },
  {
   "cell_type": "code",
   "execution_count": null,
   "metadata": {},
   "outputs": [],
   "source": []
  },
  {
   "cell_type": "code",
   "execution_count": null,
   "metadata": {},
   "outputs": [],
   "source": []
  },
  {
   "cell_type": "code",
   "execution_count": null,
   "metadata": {},
   "outputs": [],
   "source": []
  }
 ],
 "metadata": {
  "kernelspec": {
   "display_name": "Python 3",
   "language": "python",
   "name": "python3"
  },
  "language_info": {
   "codemirror_mode": {
    "name": "ipython",
    "version": 3
   },
   "file_extension": ".py",
   "mimetype": "text/x-python",
   "name": "python",
   "nbconvert_exporter": "python",
   "pygments_lexer": "ipython3",
   "version": "3.6.8"
  }
 },
 "nbformat": 4,
 "nbformat_minor": 2
}
